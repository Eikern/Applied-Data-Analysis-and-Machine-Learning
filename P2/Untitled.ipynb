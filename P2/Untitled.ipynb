{
 "cells": [
  {
   "cell_type": "code",
   "execution_count": 1,
   "id": "1ee098b9",
   "metadata": {},
   "outputs": [],
   "source": [
    "import numpy as np\n",
    "from input_data import *\n",
    "from Layers import *\n",
    "from NN_own import NN\n",
    "from sklearn.model_selection import train_test_split\n",
    "from cost_func import *\n",
    "import matplotlib.pyplot as plt\n",
    "import seaborn as sns\n",
    "import pandas as pd"
   ]
  },
  {
   "cell_type": "code",
   "execution_count": 2,
   "id": "8f57703d",
   "metadata": {},
   "outputs": [],
   "source": [
    "def mse(y, y_pred):\n",
    "    return np.mean((y - y_pred)**2)\n",
    "\n",
    "def r2_score(y, y_pred):\n",
    "    mean_y = np.mean(y)\n",
    "    ss_total = np.sum((y - mean_y)**2)\n",
    "    ss_residual = np.sum((y - y_pred)**2)\n",
    "    \n",
    "    r2 = 1 - (ss_residual / ss_total)\n",
    "    return r2"
   ]
  },
  {
   "cell_type": "code",
   "execution_count": 3,
   "id": "9b50d36e",
   "metadata": {},
   "outputs": [],
   "source": [
    "# Create code\n",
    "n = 40         # n x n number of data points\n",
    "sigma2 = 0.01   # irreducible error\n",
    "sigma = np.sqrt(sigma2)\n",
    "\n",
    "x = np.linspace(0, 1, n)\n",
    "y = np.linspace(0, 1, n)\n",
    "noise = np.random.normal(0, sigma, int(n*n))\n",
    "\n",
    "# create mesh and unravel\n",
    "x, y = np.meshgrid(x, y)\n",
    "x = np.ravel(x)\n",
    "y = np.ravel(y)\n",
    "\n",
    "# observed data\n",
    "z = FrankeFunction(x, y) + noise\n",
    "\n",
    "x.ravel()\n",
    "y.ravel()\n",
    "\n",
    "X = np.c_[x,y]"
   ]
  },
  {
   "cell_type": "code",
   "execution_count": 4,
   "id": "bcc52f1c",
   "metadata": {},
   "outputs": [],
   "source": [
    "X_train, X_test, z_train, z_test = train_test_split(X, z, test_size=0.2)\n",
    "\n",
    "# X_train_scaled = (X_train-np.mean(X_train))/sigma\n",
    "# X_test_scaled = (X_test-np.mean(X_train))/sigma\n",
    "\n",
    "# z_train_scaled=(z_train-np.mean(z_train))/sigma\n",
    "# z_test_scaled=(z_test-np.mean(z_train))/sigma\n",
    "\n",
    "\n",
    "# X_train, X_test, z_train, z_test = X_train_scaled, X_test_scaled, z_train_scaled,z_test_scaled"
   ]
  },
  {
   "cell_type": "code",
   "execution_count": 6,
   "id": "67afed13",
   "metadata": {},
   "outputs": [
    {
     "data": {
      "text/plain": [
       "[<matplotlib.lines.Line2D at 0x1ccf413cdd0>]"
      ]
     },
     "execution_count": 6,
     "metadata": {},
     "output_type": "execute_result"
    },
    {
     "data": {
      "image/png": "[encoded data removed]",
      "text/plain": [
       "<Figure size 640x480 with 1 Axes>"
      ]
     },
     "metadata": {},
     "output_type": "display_data"
    }
   ],
   "source": [
    "#Neural network\n",
    "####################\n",
    "neurons = [3,3,3,1]\n",
    "eta = 0.1\n",
    "\n",
    "\n",
    "# Create the neural network\n",
    "model= NN(X_train,z_train,neurons, act_func_h = 'sigmoid')\n",
    "model.train(batch_size = 20, lmb =0.1)\n",
    "\n",
    "\n",
    "z_pred= model.predict(X_test)\n",
    "z_test.reshape(-1,1)\n",
    "\n",
    "mse_trained = mean_squared_error(z_pred, z_test)\n",
    "mse_test = mean_squared_error(z_pred,z_train)\n",
    "error = model.errors\n",
    "\n",
    "plt.plot(np.arange(len(error)),error)"
   ]
  },
  {
   "cell_type": "code",
   "execution_count": null,
   "id": "ab9b3400",
   "metadata": {},
   "outputs": [],
   "source": [
    "'''Calculating accuracies over different learning rates and L2 parameters'''\n",
    "\n",
    "# Defining model parameters\n",
    "etas = np.logspace(-6,-1,10)\n",
    "l2_lambdas = np.logspace(-6,-1,10)\n",
    "n_iterations = 1000\n",
    "costerror = np.zeros((len(etas), len(l2_lambdas)))\n",
    "mse_test = np.zeros((len(etas), len(l2_lambdas)))\n",
    "\n",
    "for i,eta in enumerate(etas):\n",
    "    for j,lam in enumerate(l2_lambdas):\n",
    "        model= NN(X_train,z_train,neurons, act_func_h = 'sigmoid')\n",
    "        model.train(batch_size = 20, lmb = lam, learning_rate = eta)\n",
    "        z_pred= model.predict(X_test)\n",
    "        \n",
    "        error = model.errors[-1]\n",
    "        costerror[i,j] = error\n",
    "        mse_test=mse(z_pred, z_test)\n",
    "        \n",
    "        \n",
    "        "
   ]
  },
  {
   "cell_type": "code",
   "execution_count": null,
   "id": "9b1124cb",
   "metadata": {},
   "outputs": [],
   "source": [
    "# Creating a Dataframe with Accuracy-data and plotting a heatmap of the results\n",
    "\n",
    "\n",
    "\n",
    "# # Creating the dataframe\n",
    "\n",
    "formatted_etas = ['{:e}'.format(i) for i in etas]\n",
    "formatted_lmd = ['{:e}'.format(i) for i in l2_lambdas]\n",
    "\n",
    "last_epoch_error = pd.DataFrame(costerror, index = formatted_etas, columns = formatted_lmd)\n",
    "df_mse = pd.DataFrame(mse_test, index = formatted_etas, columns = formatted_lmd)\n",
    "\n",
    "# # Setting font-family for Matplotlib to \"Times New Roman\" to match Overleaf' s Latex font.\n",
    "sns.set(font='Times New Roman', style='whitegrid', font_scale=1.2)\n",
    "\n",
    "# # Plot\n",
    "title = \"Heatmap of NN mse for different {eta} and {lambda_2} values\"\n",
    "\n",
    "\n",
    "# # Adjusting the figure size and annot font size\n",
    "plt.figure(figsize=(10, 10))\n",
    "ax = sns.heatmap(last_epoch_error, annot=True, cmap=\"crest\",fmt=\".3f\", linewidths=0.5, annot_kws={\"size\": 12}, cbar_kws={'label': 'MSE for the last epoch'})\n",
    "\n",
    "# Set x-axis and y-axis label font sizes\n",
    "ax.set_xlabel(\"{lambda_2}, Regularization Parameter\", fontsize=12)  # Add your X-axis label and adjust font size\n",
    "ax.set_ylabel(\"{eta}, Learning Rate\", fontsize=12)  # Add your Y-axis label and adjust font size\n",
    "\n",
    "\n",
    "# Adjust x and y tick font size\n",
    "ax.tick_params(axis='x', labelsize=10)  # Adjust x-axis tick font size\n",
    "ax.tick_params(axis='y', labelsize=10)  # Adjust y-axis tick font size\n",
    "\n",
    "plt.xticks(rotation=45)  # Rotate x-axis labels for better readability\n",
    "plt.yticks(rotation=0)   # Rotate y-axis labels for better readability\n",
    "plt.title(title, fontsize=16)\n",
    "\n",
    "# Adjust colorbar font size\n",
    "cax = ax.collections[0].colorbar.ax\n",
    "cax.set_ylabel('Cost error', fontsize=12) \n",
    "cax.tick_params(labelsize=10)  # Adjust colorbar font size\n",
    "\n",
    "plt.show()"
   ]
  },
  {
   "cell_type": "code",
   "execution_count": null,
   "id": "5ac73b09",
   "metadata": {},
   "outputs": [],
   "source": [
    "title = \"Heatmap of NN mse for different {eta} and {lambda_2} values\"\n",
    "\n",
    "\n",
    " # # Adjusting the figure size and annot font size\n",
    "plt.figure(figsize=(10, 10))\n",
    "ax = sns.heatmap(df_mse, annot=True, cmap=\"crest\",fmt=\".3f\", linewidths=0.5, annot_kws={\"size\": 12}, cbar_kws={'label': 'MSE for the last epoch'})\n",
    "\n",
    "\n",
    " # Set x-axis and y-axis label font sizes\n",
    "ax.set_xlabel(\"{lambda_2}, Regularization Parameter\", fontsize=12)  # Add your X-axis label and adjust font size\n",
    "ax.set_ylabel(\"{eta}, Learning Rate\", fontsize=12)  # Add your Y-axis label and adjust font size\n",
    "\n",
    "\n",
    " # Adjust x and y tick font size\n",
    "ax.tick_params(axis='x', labelsize=10)  # Adjust x-axis tick font size\n",
    "ax.tick_params(axis='y', labelsize=10)  # Adjust y-axis tick font size\n",
    "\n",
    "plt.xticks(rotation=45)  # Rotate x-axis labels for better readability\n",
    "plt.yticks(rotation=0)   # Rotate y-axis labels for better readability\n",
    "plt.title(title, fontsize=16)\n",
    "\n",
    "# Adjust colorbar font size\n",
    "cax = ax.collections[0].colorbar.ax\n",
    "cax.set_ylabel('Mse', fontsize=12) \n",
    "cax.tick_params(labelsize=10)  # Adjust colorbar font size\n",
    "\n",
    "plt.show()"
   ]
  },
  {
   "cell_type": "code",
   "execution_count": null,
   "id": "f44ac6f9",
   "metadata": {},
   "outputs": [],
   "source": [
    "#Checking different lamdas for best eta found in previus heatmap.\n",
    "\n",
    "eta = 0.1\n",
    "etas = np.logspace(-6,-1,10)\n",
    "l2_lambdas = np.logspace(-6,-1,10)\n",
    "costerror = np.zeros(len(l2_lambdas))\n",
    "formatted_lmd = ['{:.2e}'.format(i) for i in l2_lambdas]\n",
    "for j,lam in enumerate(l2_lambdas):\n",
    "    model= NN(X_train,z_train,neurons, act_func_h = 'sigmoid')\n",
    "    model.train(batch_size = 20, lmb = lam, learning_rate = eta,epochs = 200)\n",
    "    z_pred= model.predict(X_test)\n",
    "    \n",
    "    error = model.errors\n",
    "    s = error[:200]\n",
    "    # formatted_etas = ['{:e}'.format(i) for i in etas]\n",
    "    labels = formatted_lmd[j]\n",
    "    #costerror[j] = error\n",
    "    plt.plot(np.arange(len(s[:50])),s[:50],label=labels)\n",
    "    plt.legend(loc='upper right')\n",
    "    \n",
    "    "
   ]
  },
  {
   "cell_type": "code",
   "execution_count": null,
   "id": "8f6dad2c",
   "metadata": {},
   "outputs": [],
   "source": []
  },
  {
   "cell_type": "code",
   "execution_count": null,
   "id": "90e00eaa",
   "metadata": {},
   "outputs": [],
   "source": []
  }
 ],
 "metadata": {
  "kernelspec": {
   "display_name": "Python 3 (ipykernel)",
   "language": "python",
   "name": "python3"
  },
  "language_info": {
   "codemirror_mode": {
    "name": "ipython",
    "version": 3
   },
   "file_extension": ".py",
   "mimetype": "text/x-python",
   "name": "python",
   "nbconvert_exporter": "python",
   "pygments_lexer": "ipython3",
   "version": "3.11.5"
  }
 },
 "nbformat": 4,
 "nbformat_minor": 5
}
