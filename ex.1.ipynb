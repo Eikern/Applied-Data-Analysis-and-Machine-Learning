{
 "cells": [
  {
   "cell_type": "code",
   "execution_count": 117,
   "metadata": {},
   "outputs": [
    {
     "name": "stdout",
     "output_type": "stream",
     "text": [
      "(100,)\n",
      "(100, 2)\n"
     ]
    }
   ],
   "source": [
    "# SETTING UP THE DATA\n",
    "\n",
    "import numpy as np\n",
    "from sklearn.model_selection import train_test_split\n",
    "from Mycode.linearmodels import LinearRegression\n",
    "from Mycode.nonlinearmodels import GradientDescentLinearRegression, SGD_plain, SGD_momentum, GD_momentum\n",
    "from Mycode.ml_tools import normalize_data, normalize_target\n",
    "\n",
    "# DATASET - MORE COMPLICATED\n",
    "\"\"\" x, y = np.meshgrid(x, y)\n",
    "x = np.ravel(x)\n",
    "y = np.ravel(y)\n",
    "z = frankeFunction(x, y) + noise # Observed data\n",
    "deg = 5          # degree\n",
    "X = designMatrix(x, y, deg, with_intercept=False) # Generate design matrix\n",
    "print(f\"Design matrix shape: {X.shape}\") \"\"\"\n",
    "\n",
    "# DATASET - SIMPLER\n",
    "np.random.seed(50) # a seed to use the same random variables\n",
    "n = 100 # datapoints\n",
    "x = np.linspace(-3, 3, n)\n",
    "print(x.shape)\n",
    "y = x**2 + 1.5*x - 9 + np.random.normal(0, 0.1)\n",
    "# Design matrix\n",
    "'''X = np.zeros((len(x), degree))\n",
    "for p in range(degree):\n",
    "    X[:, p] = x ** (p)'''\n",
    "X = np.c_[np.ones((n,1)), x]\n",
    "print(X.shape)\n",
    "\n",
    "# Split data into train and test sets\n",
    "X_train, X_test, y_train, y_test = train_test_split(X, y, test_size=0.2)\n",
    "\n",
    "# Scale the data, i.e, subtract the mean and divide by std (based on the training set)\n",
    "X_train_scaled, X_test_scaled = X_train, X_test #normalize_data(X_train, X_test, with_intercept=False)\n",
    "y_train_scaled, y_test_scaled = y_train, y_test #normalize_target(y_train, y_test)"
   ]
  },
  {
   "cell_type": "code",
   "execution_count": 118,
   "metadata": {},
   "outputs": [],
   "source": [
    "''' Regular Linear Regression using Matrix Inversion\n",
    "------------------------------------------\n",
    "fit_intercept = True, includes the intercept'''\n",
    "np.random.seed(50)\n",
    "# Create linear regression object\n",
    "ols_linreg = LinearRegression(fit_intercept=True)\n",
    "# Train the model using the (scaled) training sets\n",
    "fit_inversion = ols_linreg.fit(X_train_scaled, y_train_scaled)\n",
    "predict_inversion = ols_linreg.predict(X_test_scaled)"
   ]
  },
  {
   "cell_type": "code",
   "execution_count": 119,
   "metadata": {},
   "outputs": [],
   "source": [
    "'''Setting up the Gradient Descent Linear Regression object'''\n",
    "\n",
    "np.random.seed(50)\n",
    "# Create Gradient Descent Object\n",
    "OLS_GD = GradientDescentLinearRegression(0.01, 1000)\n",
    "fit_GD = OLS_GD.fit(X_train_scaled, y_train_scaled)\n",
    "predict_GD = OLS_GD.predict(X_test_scaled)"
   ]
  },
  {
   "cell_type": "code",
   "execution_count": 120,
   "metadata": {},
   "outputs": [],
   "source": [
    "'''Setting up the GD Linear Regression object, now WITH MOMENTUM'''\n",
    "\n",
    "np.random.seed(50)\n",
    "# Create Gradient Descent Object\n",
    "OLS_GDM = GD_momentum(0.01, 1000, 0.4)\n",
    "fit_GDM = OLS_GDM.fit(X_train_scaled, y_train_scaled)\n",
    "predict_GDM = OLS_GDM.predict(X_test_scaled)"
   ]
  },
  {
   "cell_type": "code",
   "execution_count": 121,
   "metadata": {},
   "outputs": [],
   "source": [
    "'''Setting up the Stochastic GD Linear Regression object'''\n",
    "np.random.seed(50)\n",
    "# Create Stochastic Gradient Descent Object with momentum\n",
    "OLS_SGD = SGD_plain(0.01, 1000, 10, 5) #learning rate, iterations, number of epochs, batch size\n",
    "fit_SGD = OLS_SGD.fit(X_train_scaled, y_train_scaled)\n",
    "predict_SGD = OLS_SGD.predict(X_test_scaled)"
   ]
  },
  {
   "cell_type": "code",
   "execution_count": 122,
   "metadata": {},
   "outputs": [],
   "source": [
    "'''Setting up the Stochastic GD Linear Regression object, now WITH MOMENTUM'''\n",
    "np.random.seed(50)\n",
    "# Create Gradient Descent Object\n",
    "OLS_SGDM = SGD_momentum(0.01, 1000, 10, 5, 0.3)  #learning rate, iterations, number of epochs, batch size, momentum\n",
    "fit_SGDM = OLS_SGDM.fit(X_train_scaled, y_train_scaled)\n",
    "predict_SGDM = OLS_SGDM.predict(X_test_scaled)"
   ]
  },
  {
   "cell_type": "code",
   "execution_count": 116,
   "metadata": {},
   "outputs": [
    {
     "name": "stdout",
     "output_type": "stream",
     "text": [
      "RESULTS FOR OLS Regular Matrix Inversion:\n",
      " \n",
      "Coefficients:  [-2.9708194   1.40694645]\n",
      "Train MSE M-Inv: 7.650111750501209 Test MSE M-Inv: 7.1083146884876545\n",
      "Train R2 M-Inv: 0.45423560716766664 Test R2 M-Inv: 0.545495673056674\n",
      "\n",
      "RESULTS FOR OLS Gradient Descent:\n",
      " \n",
      "Coefficients:  [-5.94163879  1.40694645]\n",
      "Train MSE G.D: 7.650111750501208 Test MSE G.D: 7.108314699536903\n",
      "Train R2 G.D: 0.45423560716766676 Test R2 G.D: 0.545495672350187 \n",
      "\n",
      "RESULTS FOR OLS Gradient Descent with Momentum:\n",
      " \n",
      "Coefficients:  [-5.9416388   1.40694645]\n",
      "Train MSE: 7.650111750501208 Test MSE: 7.10831468848883\n",
      "Train R2: 0.45423560716766676 Test R2: 0.5454956730565987\n",
      "\n",
      "RESULTS FOR OLS Stochastic Gradient Descent:\n",
      " \n",
      "Coefficients:  [-5.94163879  1.40694645]\n",
      "Train MSE G.D: 7.694901178539328 Test MSE G.D: 7.60438831602252\n",
      "Train R2 G.D: 0.45104029763549813 Test R2 G.D: 0.5137768170299104 \n",
      "\n",
      "RESULTS FOR OLS Stochastic Gradient Descent WITH momentum:\n",
      " \n",
      "Coefficients:  [-5.94163879  1.40694645]\n",
      "Train MSE G.D: 7.7465598370902224 Test MSE G.D: 7.829808345949173\n",
      "Train R2 G.D: 0.44735493233129653 Test R2 G.D: 0.49936350199374735 \n",
      "\n"
     ]
    }
   ],
   "source": [
    "# EXERCISE 1 - PRINTING RESULTS\n",
    "\n",
    "#Matrix Inversion\n",
    "beta = ols_linreg.coef_\n",
    "print('RESULTS FOR OLS Regular Matrix Inversion:\\n ')\n",
    "print('Coefficients: ',beta)\n",
    "# MSE and R2 using Linear Regression\n",
    "mse_train = ols_linreg.mse(X_train_scaled, y_train_scaled)\n",
    "mse_test = ols_linreg.mse(X_test_scaled, y_test_scaled)\n",
    "r2_train = ols_linreg.r2(X_train_scaled, y_train_scaled)\n",
    "r2_test = ols_linreg.r2(X_test_scaled, y_test_scaled)\n",
    "print(f\"Train MSE M-Inv: {mse_train}\",f\"Test MSE M-Inv: {mse_test}\")\n",
    "print(f\"Train R2 M-Inv: {r2_train}\",f\"Test R2 M-Inv: {r2_test}\\n\")\n",
    "\n",
    "#Gradient Descent\n",
    "betaGD = OLS_GD.theta\n",
    "print('RESULTS FOR OLS Gradient Descent:\\n ')\n",
    "print('Coefficients: ',betaGD)\n",
    "# MSE and R2 using Gradient Descent\n",
    "GDmse_train = OLS_GD.mse(X_train_scaled, y_train_scaled)\n",
    "GDmse_test = OLS_GD.mse(X_test_scaled, y_test_scaled)\n",
    "GDr2_train = OLS_GD.r2(X_train_scaled, y_train_scaled)\n",
    "GDr2_test = OLS_GD.r2(X_test_scaled, y_test_scaled)\n",
    "print(f\"Train MSE G.D: {GDmse_train}\",f\"Test MSE G.D: {GDmse_test}\")\n",
    "print(f\"Train R2 G.D: {GDr2_train}\",f\"Test R2 G.D: {GDr2_test} \\n\")\n",
    "\n",
    "#Gradient Descent with momentum\n",
    "betaGDM = OLS_GDM.theta\n",
    "print('RESULTS FOR OLS Gradient Descent with Momentum:\\n ')\n",
    "print('Coefficients: ',betaGDM)\n",
    "# MSE and R2 using Gradient Descent\n",
    "GDMmse_train = OLS_GDM.mse(X_train_scaled, y_train_scaled)\n",
    "GDMmse_test = OLS_GDM.mse(X_test_scaled, y_test_scaled)\n",
    "GDMr2_train = OLS_GDM.r2(X_train_scaled, y_train_scaled)\n",
    "GDMr2_test = OLS_GDM.r2(X_test_scaled, y_test_scaled)\n",
    "print(f\"Train MSE: {GDMmse_train}\",f\"Test MSE: {GDMmse_test}\")\n",
    "print(f\"Train R2: {GDMr2_train}\",f\"Test R2: {GDMr2_test}\\n\")\n",
    "\n",
    "# Stochastic Gradient Descent - PLAIN\n",
    "betaSGD = OLS_SGD.theta\n",
    "print('RESULTS FOR OLS Stochastic Gradient Descent:\\n ')\n",
    "print('Coefficients: ',betaGD)\n",
    "# MSE and R2 using Gradient Descent\n",
    "SGDmse_train = OLS_SGD.mse(X_train_scaled, y_train_scaled)\n",
    "SGDmse_test = OLS_SGD.mse(X_test_scaled, y_test_scaled)\n",
    "SGDr2_train = OLS_SGD.r2(X_train_scaled, y_train_scaled)\n",
    "SGDr2_test = OLS_SGD.r2(X_test_scaled, y_test_scaled)\n",
    "print(f\"Train MSE G.D: {SGDmse_train}\",f\"Test MSE G.D: {SGDmse_test}\")\n",
    "print(f\"Train R2 G.D: {SGDr2_train}\",f\"Test R2 G.D: {SGDr2_test} \\n\")\n",
    "\n",
    "# Stochastic Gradient Descent - WITH MOMENTUM\n",
    "betaSGDM = OLS_SGDM.theta\n",
    "print('RESULTS FOR OLS Stochastic Gradient Descent WITH momentum:\\n ')\n",
    "print('Coefficients: ',betaGD)\n",
    "# MSE and R2 using Gradient Descent\n",
    "SGDMmse_train = OLS_SGDM.mse(X_train_scaled, y_train_scaled)\n",
    "SGDMmse_test = OLS_SGDM.mse(X_test_scaled, y_test_scaled)\n",
    "SGDMr2_train = OLS_SGDM.r2(X_train_scaled, y_train_scaled)\n",
    "SGDMr2_test = OLS_SGDM.r2(X_test_scaled, y_test_scaled)\n",
    "print(f\"Train MSE G.D: {SGDMmse_train}\",f\"Test MSE G.D: {SGDMmse_test}\")\n",
    "print(f\"Train R2 G.D: {SGDMr2_train}\",f\"Test R2 G.D: {SGDMr2_test} \\n\")\n"
   ]
  },
  {
   "cell_type": "code",
   "execution_count": 109,
   "metadata": {},
   "outputs": [
    {
     "name": "stdout",
     "output_type": "stream",
     "text": [
      "Learning Rate: 0.01 | MSE: 8.668868022387018 | R2 Score: 0.4457141814139626\n",
      "Learning Rate: 0.05 | MSE: 7.1085373481935346 | R2 Score: 0.545481436236247\n",
      "Learning Rate: 0.1 | MSE: 7.108314690405318 | R2 Score: 0.545495672934059\n",
      "Learning Rate: 0.2 | MSE: 7.108314688487653 | R2 Score: 0.5454956730566741\n",
      "Learning Rate: 0.5 | MSE: 3.380731094508243e+68 | R2 Score: -2.1616332112791655e+67\n"
     ]
    },
    {
     "data": {
      "image/png": "[encoded data removed]",
      "text/plain": [
       "<Figure size 640x480 with 1 Axes>"
      ]
     },
     "metadata": {},
     "output_type": "display_data"
    }
   ],
   "source": [
    "# Exercise 2 - GD Linear Regression with tuneable learning rate / MOMENTUM???\n",
    "import numpy as np\n",
    "import matplotlib.pyplot as plt\n",
    "\n",
    "# Create lists to store learning rates, MSE, and R2 scores\n",
    "learning_rates = [0.01, 0.05, 0.1, 0.2, 0.5]\n",
    "mse_scores = []\n",
    "r2_scores = []\n",
    "\n",
    "# Loop over each learning rate\n",
    "for rate in learning_rates:\n",
    "    # Create an instance of GradientDescentLinearRegression\n",
    "    gd_lr = GradientDescentLinearRegression(learning_rate=rate, n_iterations=100)\n",
    "    gd_lr.fit(X_train_scaled, y_train_scaled)  # Fit the model\n",
    "    mse = gd_lr.mse(X_test_scaled, y_test_scaled)  # Calculate MSE\n",
    "    r2 = gd_lr.r2(X_test_scaled, y_test_scaled)  # Calculate R2 score\n",
    "\n",
    "    # Append scores to the lists\n",
    "    mse_scores.append(mse)\n",
    "    r2_scores.append(r2)\n",
    "\n",
    "# Print the results\n",
    "for i in range(len(learning_rates)):\n",
    "    print(f\"Learning Rate: {learning_rates[i]} | MSE: {mse_scores[i]} | R2 Score: {r2_scores[i]}\")\n",
    "\n",
    "# Plotting the results\n",
    "plt.plot(learning_rates, mse_scores, label='MSE')\n",
    "plt.plot(learning_rates, r2_scores, label='R2 Score')\n",
    "plt.xlabel('Learning Rate')\n",
    "plt.ylabel('Performance Metric')\n",
    "plt.legend()\n",
    "plt.show()\n"
   ]
  },
  {
   "cell_type": "code",
   "execution_count": null,
   "metadata": {},
   "outputs": [],
   "source": []
  }
 ],
 "metadata": {
  "kernelspec": {
   "display_name": "Python 3",
   "language": "python",
   "name": "python3"
  },
  "language_info": {
   "codemirror_mode": {
    "name": "ipython",
    "version": 3
   },
   "file_extension": ".py",
   "mimetype": "text/x-python",
   "name": "python",
   "nbconvert_exporter": "python",
   "pygments_lexer": "ipython3",
   "version": "3.8.5"
  },
  "orig_nbformat": 4
 },
 "nbformat": 4,
 "nbformat_minor": 2
}
